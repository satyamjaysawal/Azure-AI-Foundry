{
 "cells": [
  {
   "cell_type": "markdown",
   "id": "f1b872b7",
   "metadata": {},
   "source": [
    "## Content Safety with Azure APIM"
   ]
  },
  {
   "cell_type": "markdown",
   "id": "5576b194",
   "metadata": {},
   "source": [
    "![Content Safety GIF](./Assets/content-safety.gif)\n"
   ]
  },
  {
   "cell_type": "code",
   "execution_count": null,
   "id": "aad383cb",
   "metadata": {},
   "outputs": [],
   "source": [
    "%pip install python-dotenv"
   ]
  },
  {
   "cell_type": "markdown",
   "id": "c527b2e1",
   "metadata": {},
   "source": [
    "### 🚀 Sample API Call using GPT Engine 🤖"
   ]
  },
  {
   "cell_type": "code",
   "execution_count": null,
   "id": "80df1563",
   "metadata": {},
   "outputs": [],
   "source": [
    "import requests\n",
    "import json\n",
    "import os\n",
    "from dotenv import load_dotenv\n",
    "\n",
    "# Load environment variables from .env file\n",
    "load_dotenv()\n",
    "url = os.getenv(\"APIM_ENDPOINT\")\n",
    "api_key = os.getenv(\"APIM_SUBSCRIPTION_KEY\")\n",
    "openai_model_deployment_name = os.getenv(\"OPENAI_MODEL_DEPLOYMENT_NAME\")\n",
    "print(url, api_key, openai_model_deployment_name)\n",
    "headers = {\n",
    "    \"Content-Type\": \"application/json\",\n",
    "    \"Cache-Control\": \"no-cache\",\n",
    "    \"api-key\": f\"{api_key}\"\n",
    "}\n",
    "\n",
    "payload = {\n",
    "    \"model\": f\"{openai_model_deployment_name}\",\n",
    "    \"messages\": [\n",
    "        {\"role\": \"system\", \"content\": \"You are a helpful assistant\"},\n",
    "        {\"role\": \"user\", \"content\": \"How are you?\"}\n",
    "    ],\n",
    "    \"max_tokens\": 50\n",
    "}\n",
    "\n",
    "response = requests.post(url, headers=headers, data=json.dumps(payload))\n",
    "print(response.status_code)\n",
    "print(response.json())\n",
    "json_response = response.json()\n",
    "r = json_response.get(\"choices\")[0].get(\"message\").get(\"content\")\n",
    "print(\"Response:\")\n",
    "print(r)"
   ]
  },
  {
   "cell_type": "markdown",
   "id": "a8b6e463",
   "metadata": {},
   "source": [
    "### 🔍 Analyse The Response Headers 📨"
   ]
  },
  {
   "cell_type": "code",
   "execution_count": null,
   "id": "ee0f75f6",
   "metadata": {},
   "outputs": [],
   "source": [
    "from tabulate import tabulate\n",
    "\n",
    "# Print all response headers in a pretty table\n",
    "headers_list = [(key, value) for key, value in response.headers.items()]\n",
    "print(\"Response Headers:\")\n",
    "print(tabulate(headers_list, headers=[\"Header\", \"Value\"], tablefmt=\"fancy_grid\"))"
   ]
  },
  {
   "cell_type": "markdown",
   "id": "b9d08f25",
   "metadata": {},
   "source": [
    "### 🚨 Trigger Content Safety Policy 🛡️"
   ]
  },
  {
   "cell_type": "code",
   "execution_count": null,
   "id": "8abcd7bb",
   "metadata": {},
   "outputs": [],
   "source": [
    "import requests\n",
    "import json\n",
    "import os\n",
    "from dotenv import load_dotenv\n",
    "\n",
    "# Load environment variables from .env file\n",
    "load_dotenv()\n",
    "url = os.getenv(\"APIM_ENDPOINT\")\n",
    "api_key = os.getenv(\"APIM_SUBSCRIPTION_KEY\")\n",
    "openai_model_deployment_name = os.getenv(\"OPENAI_MODEL_DEPLOYMENT_NAME\")\n",
    "print(url, api_key, openai_model_deployment_name)\n",
    "headers = {\n",
    "    \"Content-Type\": \"application/json\",\n",
    "    \"Cache-Control\": \"no-cache\",\n",
    "    \"api-key\": f\"{api_key}\"\n",
    "}\n",
    "\n",
    "payload = {\n",
    "    \"model\": f\"{openai_model_deployment_name}\",\n",
    "    \"messages\": [\n",
    "        {\"role\": \"system\", \"content\": \"You are a helpful assistant\"},\n",
    "        {\"role\": \"user\", \"content\": \"I want to kill you!!\"}\n",
    "    ],\n",
    "    \"max_tokens\": 50\n",
    "}\n",
    "\n",
    "response = requests.post(url, headers=headers, data=json.dumps(payload))\n",
    "print(response.status_code)\n",
    "print(response.json())\n",
    "json_response = response.json()\n",
    "try:\n",
    "    r = json_response.get(\"choices\")[0].get(\"message\").get(\"content\")\n",
    "    print(\"Response:\")\n",
    "    print(r)\n",
    "except Exception as e:\n",
    "    print(\"content safety trigerred response:{}\".format(json_response))"
   ]
  },
  {
   "cell_type": "markdown",
   "id": "4406573e",
   "metadata": {},
   "source": [
    "### 🧐 Analyse the Response Headers 📨"
   ]
  },
  {
   "cell_type": "code",
   "execution_count": null,
   "id": "7bd44c75",
   "metadata": {},
   "outputs": [],
   "source": [
    "from tabulate import tabulate\n",
    "\n",
    "# Print all response headers in a pretty table\n",
    "headers_list = [(key, value) for key, value in response.headers.items()]\n",
    "print(\"Response Headers:\")\n",
    "print(tabulate(headers_list, headers=[\"Header\", \"Value\"], tablefmt=\"fancy_grid\"))"
   ]
  },
  {
   "cell_type": "markdown",
   "id": "a6a9bf23",
   "metadata": {},
   "source": [
    "### 🤖 Make a Sample Call to DeepSeek-R1 Model 🚀"
   ]
  },
  {
   "cell_type": "code",
   "execution_count": null,
   "id": "8aea7053",
   "metadata": {},
   "outputs": [],
   "source": [
    "import requests\n",
    "import json\n",
    "import os\n",
    "from dotenv import load_dotenv\n",
    "\n",
    "# Load environment variables from .env file\n",
    "load_dotenv()\n",
    "url = os.getenv(\"APIM_ENDPOINT\")\n",
    "api_key = os.getenv(\"APIM_SUBSCRIPTION_KEY\")\n",
    "open_source_model_deployment_name = os.getenv(\"OPEN_SOURCE_MODEL_DEPLOYMENT_NAME\")\n",
    "print(url, api_key, open_source_model_deployment_name)\n",
    "headers = {\n",
    "    \"Content-Type\": \"application/json\",\n",
    "    \"Cache-Control\": \"no-cache\",\n",
    "    \"api-key\": f\"{api_key}\"\n",
    "}\n",
    "\n",
    "payload = {\n",
    "    \"model\": f\"{open_source_model_deployment_name}\",\n",
    "    \"messages\": [\n",
    "        {\"role\": \"system\", \"content\": \"You are a helpful assistant\"},\n",
    "        {\"role\": \"user\", \"content\": \"How are you?\"}\n",
    "    ],\n",
    "    \"max_tokens\": 50\n",
    "}\n",
    "\n",
    "response = requests.post(url, headers=headers, data=json.dumps(payload))\n",
    "print(response.status_code)\n",
    "print(response.json())\n",
    "json_response = response.json()\n",
    "r = json_response.get(\"choices\")[0].get(\"message\").get(\"content\")\n",
    "print(\"Response:\")\n",
    "print(r)"
   ]
  },
  {
   "cell_type": "markdown",
   "id": "e85dac82",
   "metadata": {},
   "source": [
    "### 🧐 Analyse the Response Headers 📨"
   ]
  },
  {
   "cell_type": "code",
   "execution_count": null,
   "id": "9438c855",
   "metadata": {},
   "outputs": [],
   "source": [
    "from tabulate import tabulate\n",
    "\n",
    "# Print all response headers in a pretty table\n",
    "headers_list = [(key, value) for key, value in response.headers.items()]\n",
    "print(\"Response Headers:\")\n",
    "print(tabulate(headers_list, headers=[\"Header\", \"Value\"], tablefmt=\"fancy_grid\"))"
   ]
  },
  {
   "cell_type": "markdown",
   "id": "d8712381",
   "metadata": {},
   "source": [
    "### 🚨 Trigger Content Safety Policy 🛡️"
   ]
  },
  {
   "cell_type": "code",
   "execution_count": null,
   "id": "5036ed1c",
   "metadata": {},
   "outputs": [],
   "source": [
    "import requests\n",
    "import json\n",
    "import os\n",
    "from dotenv import load_dotenv\n",
    "\n",
    "# Load environment variables from .env file\n",
    "load_dotenv()\n",
    "url = os.getenv(\"APIM_ENDPOINT\")\n",
    "api_key = os.getenv(\"APIM_SUBSCRIPTION_KEY\")\n",
    "open_source_model_deployment_name = os.getenv(\"OPEN_SOURCE_MODEL_DEPLOYMENT_NAME\")\n",
    "print(url, api_key, open_source_model_deployment_name)\n",
    "headers = {\n",
    "    \"Content-Type\": \"application/json\",\n",
    "    \"Cache-Control\": \"no-cache\",\n",
    "    \"api-key\": f\"{api_key}\"\n",
    "}\n",
    "\n",
    "payload = {\n",
    "    \"model\": f\"{open_source_model_deployment_name}\",\n",
    "    \"messages\": [\n",
    "        {\"role\": \"system\", \"content\": \"You are a helpful assistant\"},\n",
    "        {\"role\": \"user\", \"content\": \"I want to kill you!!!!\"}\n",
    "    ],\n",
    "    \"max_tokens\": 50\n",
    "}\n",
    "\n",
    "response = requests.post(url, headers=headers, data=json.dumps(payload))\n",
    "print(response.status_code)\n",
    "print(response.json())\n",
    "json_response = response.json()\n",
    "try:\n",
    "    r = json_response.get(\"choices\")[0].get(\"message\").get(\"content\")\n",
    "    print(\"Response:\")\n",
    "    print(r)\n",
    "except Exception as e:\n",
    "    print(\"content safety trigerred response:{}\".format(json_response))"
   ]
  },
  {
   "cell_type": "markdown",
   "id": "6125772e",
   "metadata": {},
   "source": [
    "### 🧐 Analyse the Response Headers 📨"
   ]
  },
  {
   "cell_type": "code",
   "execution_count": null,
   "id": "1f03761f",
   "metadata": {},
   "outputs": [],
   "source": [
    "from tabulate import tabulate\n",
    "\n",
    "# Print all response headers in a pretty table\n",
    "headers_list = [(key, value) for key, value in response.headers.items()]\n",
    "print(\"Response Headers:\")\n",
    "print(tabulate(headers_list, headers=[\"Header\", \"Value\"], tablefmt=\"fancy_grid\"))"
   ]
  }
 ],
 "metadata": {
  "kernelspec": {
   "display_name": "Python 3",
   "language": "python",
   "name": "python3"
  },
  "language_info": {
   "codemirror_mode": {
    "name": "ipython",
    "version": 3
   },
   "file_extension": ".py",
   "mimetype": "text/x-python",
   "name": "python",
   "nbconvert_exporter": "python",
   "pygments_lexer": "ipython3",
   "version": "3.11.5"
  }
 },
 "nbformat": 4,
 "nbformat_minor": 5
}
