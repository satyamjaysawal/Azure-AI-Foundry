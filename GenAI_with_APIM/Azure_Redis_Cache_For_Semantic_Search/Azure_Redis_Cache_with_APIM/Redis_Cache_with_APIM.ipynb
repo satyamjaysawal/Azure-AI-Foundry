{
 "cells": [
  {
   "cell_type": "markdown",
   "id": "4f69e780",
   "metadata": {},
   "source": [
    "## Azure Redis Cache with APIM"
   ]
  },
  {
   "cell_type": "markdown",
   "id": "8e13352e",
   "metadata": {},
   "source": [
    "![Redis-Cache-with-APIM](semantic-caching.gif)"
   ]
  },
  {
   "cell_type": "markdown",
   "id": "8c394bac",
   "metadata": {},
   "source": [
    "The azure-openai-semantic-cache-lookup policy conducts a cache lookup of responses on Azure OpenAI Chat Completion API and Completion API requests from a pre-configured external cache. It operates by comparing the vector proximity of the prompt to prior requests and using a specific similarity score threshold. Caching responses helps reduce bandwidth and processing demands on the backend Azure OpenAI API, thus reducing latency perceived by API consumers.\n",
    "\n",
    "### Result\n",
    "![semantic-cachin-results](result.png)"
   ]
  },
  {
   "cell_type": "code",
   "execution_count": null,
   "id": "117cb635",
   "metadata": {},
   "outputs": [],
   "source": [
    "import requests\n",
    "import json\n",
    "import os\n",
    "from dotenv import load_dotenv\n",
    "import time"
   ]
  },
  {
   "cell_type": "code",
   "execution_count": null,
   "id": "8564edbe",
   "metadata": {},
   "outputs": [],
   "source": [
    "%%time\n",
    "\n",
    "# Load environment variables from .env file\n",
    "load_dotenv()\n",
    "url = os.getenv(\"APIM_ENDPOINT\")\n",
    "api_key = os.getenv(\"APIM_SUBSCRIPTION_KEY\")\n",
    "model = os.getenv(\"MODEL\")\n",
    "print(url, api_key, model)\n",
    "headers = {\n",
    "    \"Content-Type\": \"application/json\",\n",
    "    \"Cache-Control\": \"no-cache\",\n",
    "    \"api-key\": f\"{api_key}\"\n",
    "}\n",
    "\n",
    "payload = {\n",
    "    \"model\": f\"{model}\",\n",
    "    \"messages\": [\n",
    "        {\"role\": \"system\", \"content\": \"You are a helpful assistant\"},\n",
    "        {\"role\": \"user\", \"content\": \"Please Write me a poem about Kittens\"}\n",
    "    ],\n",
    "    \"max_tokens\": 50\n",
    "}\n",
    "\n",
    "response = requests.post(url, headers=headers, data=json.dumps(payload))\n",
    "print(response.status_code)\n",
    "print(response.json())\n",
    "json_response = response.json()\n",
    "r = json_response.get(\"choices\")[0].get(\"message\").get(\"content\")\n",
    "print(\"Response:\")\n",
    "print(r)"
   ]
  },
  {
   "cell_type": "code",
   "execution_count": null,
   "id": "77521af3",
   "metadata": {},
   "outputs": [],
   "source": [
    "from tabulate import tabulate\n",
    "\n",
    "# Print all response headers in a pretty table\n",
    "headers_list = [(key, value) for key, value in response.headers.items()]\n",
    "print(\"Response Headers:\")\n",
    "print(tabulate(headers_list, headers=[\"Header\", \"Value\"], tablefmt=\"fancy_grid\"))"
   ]
  },
  {
   "cell_type": "code",
   "execution_count": null,
   "id": "92cf0496",
   "metadata": {},
   "outputs": [],
   "source": [
    "%%time\n",
    "\n",
    "# Load environment variables from .env file\n",
    "load_dotenv()\n",
    "url = os.getenv(\"APIM_ENDPOINT\")\n",
    "api_key = os.getenv(\"APIM_SUBSCRIPTION_KEY\")\n",
    "model = os.getenv(\"MODEL\")\n",
    "print(url, api_key, model)\n",
    "headers = {\n",
    "    \"Content-Type\": \"application/json\",\n",
    "    \"Cache-Control\": \"no-cache\",\n",
    "    \"api-key\": f\"{api_key}\"\n",
    "}\n",
    "\n",
    "payload = {\n",
    "    \"model\": f\"{model}\",\n",
    "    \"messages\": [\n",
    "        {\"role\": \"system\", \"content\": \"You are a helpful assistant\"},\n",
    "        {\"role\": \"user\", \"content\": \"Write me a poem about Puppies\"}\n",
    "    ],\n",
    "    \"max_tokens\": 50\n",
    "}\n",
    "\n",
    "response = requests.post(url, headers=headers, data=json.dumps(payload))\n",
    "print(response.status_code)\n",
    "print(response.json())\n",
    "json_response = response.json()\n",
    "r = json_response.get(\"choices\")[0].get(\"message\").get(\"content\")\n",
    "print(\"Response:\")\n",
    "print(r)"
   ]
  },
  {
   "cell_type": "code",
   "execution_count": null,
   "id": "f61a7c5a",
   "metadata": {},
   "outputs": [],
   "source": [
    "from tabulate import tabulate\n",
    "\n",
    "# Print all response headers in a pretty table\n",
    "headers_list = [(key, value) for key, value in response.headers.items()]\n",
    "print(\"Response Headers:\")\n",
    "print(tabulate(headers_list, headers=[\"Header\", \"Value\"], tablefmt=\"fancy_grid\"))"
   ]
  }
 ],
 "metadata": {
  "kernelspec": {
   "display_name": "Python 3",
   "language": "python",
   "name": "python3"
  },
  "language_info": {
   "codemirror_mode": {
    "name": "ipython",
    "version": 3
   },
   "file_extension": ".py",
   "mimetype": "text/x-python",
   "name": "python",
   "nbconvert_exporter": "python",
   "pygments_lexer": "ipython3",
   "version": "3.11.5"
  }
 },
 "nbformat": 4,
 "nbformat_minor": 5
}
