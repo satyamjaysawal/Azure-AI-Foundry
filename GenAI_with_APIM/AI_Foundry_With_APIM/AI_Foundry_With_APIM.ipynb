{
 "cells": [
  {
   "cell_type": "markdown",
   "id": "e4295f07",
   "metadata": {},
   "source": [
    "## AI Foundry With APIM Integration"
   ]
  },
  {
   "cell_type": "markdown",
   "id": "65b9a4b6",
   "metadata": {},
   "source": [
    "![GPT-4o Inferencing](Assets/ai-foundry-sdk.gif)"
   ]
  },
  {
   "cell_type": "code",
   "execution_count": null,
   "id": "e99c7d27",
   "metadata": {},
   "outputs": [],
   "source": [
    "%pip install python-dotenv"
   ]
  },
  {
   "cell_type": "markdown",
   "id": "1a57eb7d",
   "metadata": {},
   "source": [
    "### Make Sample API Call"
   ]
  },
  {
   "cell_type": "code",
   "execution_count": null,
   "id": "66ce7626",
   "metadata": {},
   "outputs": [],
   "source": [
    "import requests\n",
    "import json\n",
    "import os\n",
    "from dotenv import load_dotenv\n",
    "\n",
    "# Load environment variables from .env file\n",
    "load_dotenv()\n",
    "url = os.getenv(\"APIM_ENDPOINT\")\n",
    "api_key = os.getenv(\"APIM_SUBSCRIPTION_KEY\")\n",
    "model = os.getenv(\"MODEL\")\n",
    "print(url, api_key, model)\n",
    "headers = {\n",
    "    \"Content-Type\": \"application/json\",\n",
    "    \"Cache-Control\": \"no-cache\",\n",
    "    \"api-key\": f\"{api_key}\"\n",
    "}\n",
    "\n",
    "payload = {\n",
    "    \"model\": f\"{model}\",\n",
    "    \"messages\": [\n",
    "        {\"role\": \"system\", \"content\": \"You are a helpful assistant\"},\n",
    "        {\"role\": \"user\", \"content\": \"How are you?\"}\n",
    "    ],\n",
    "    \"max_tokens\": 50\n",
    "}\n",
    "\n",
    "response = requests.post(url, headers=headers, data=json.dumps(payload))\n",
    "print(response.status_code)\n",
    "print(response.json())\n",
    "json_response = response.json()\n",
    "r = json_response.get(\"choices\")[0].get(\"message\").get(\"content\")\n",
    "print(\"Response:\")\n",
    "print(r)"
   ]
  },
  {
   "cell_type": "markdown",
   "id": "ad4e9388",
   "metadata": {},
   "source": [
    "### Analyse the Response Headers"
   ]
  },
  {
   "cell_type": "code",
   "execution_count": null,
   "id": "4901d37a",
   "metadata": {},
   "outputs": [],
   "source": [
    "from tabulate import tabulate\n",
    "\n",
    "# Print all response headers in a pretty table\n",
    "headers_list = [(key, value) for key, value in response.headers.items()]\n",
    "print(\"Response Headers:\")\n",
    "print(tabulate(headers_list, headers=[\"Header\", \"Value\"], tablefmt=\"fancy_grid\"))"
   ]
  },
  {
   "cell_type": "markdown",
   "id": "8a4ac91a",
   "metadata": {},
   "source": [
    "### Call DeepSeek-R1 Model"
   ]
  },
  {
   "cell_type": "code",
   "execution_count": null,
   "id": "23cbe2e7",
   "metadata": {},
   "outputs": [],
   "source": [
    "import requests\n",
    "import json\n",
    "import os\n",
    "from dotenv import load_dotenv\n",
    "\n",
    "# Load environment variables from .env file\n",
    "load_dotenv()\n",
    "url = os.getenv(\"APIM_ENDPOINT\")\n",
    "api_key = os.getenv(\"APIM_SUBSCRIPTION_KEY\")\n",
    "deepseek_model_deployment_name = os.getenv(\"DEEPSEEK_MODEL_DEPLOYMENT_NAME\")\n",
    "print(url, api_key, deepseek_model_deployment_name)\n",
    "headers = {\n",
    "    \"Content-Type\": \"application/json\",\n",
    "    \"Cache-Control\": \"no-cache\",\n",
    "    \"api-key\": f\"{api_key}\"\n",
    "}\n",
    "\n",
    "payload = {\n",
    "    \"model\": f\"{deepseek_model_deployment_name}\",\n",
    "    \"messages\": [\n",
    "        {\"role\": \"system\", \"content\": \"You are a helpful assistant\"},\n",
    "        {\"role\": \"user\", \"content\": \"How are you?\"}\n",
    "    ],\n",
    "    \"max_tokens\": 50\n",
    "}\n",
    "\n",
    "response = requests.post(url, headers=headers, data=json.dumps(payload))\n",
    "print(response.status_code)\n",
    "print(response.json())\n",
    "json_response = response.json()\n",
    "r = json_response.get(\"choices\")[0].get(\"message\").get(\"content\")\n",
    "print(\"Response:\")\n",
    "print(r)"
   ]
  },
  {
   "cell_type": "markdown",
   "id": "d6078f47",
   "metadata": {},
   "source": [
    "### Exceed the Rate Limit Threshold"
   ]
  },
  {
   "cell_type": "code",
   "execution_count": null,
   "id": "fb912a01",
   "metadata": {},
   "outputs": [],
   "source": [
    "# Exhaust the rate limit\n",
    "import time\n",
    "for i in range(200):  # Adjust as needed to exceed your rate limit\n",
    "    response = requests.post(url, headers=headers, data=json.dumps(payload))\n",
    "    print(f\"Request {i+1}: Status {response.status_code}\")\n",
    "    if response.status_code == 429:\n",
    "        print(\"Rate limit exceeded!\")\n",
    "        print(response.json())\n",
    "        break\n",
    "    # Optional: sleep to avoid flooding too quickly\n",
    "    time.sleep(0.5)"
   ]
  },
  {
   "cell_type": "markdown",
   "id": "ffd538f5",
   "metadata": {},
   "source": [
    "### Application Insights Monitoring"
   ]
  },
  {
   "cell_type": "markdown",
   "id": "45148752",
   "metadata": {},
   "source": [
    "Go to your [Application Insights](https://portal.azure.com/) resource linked to APIM.\n",
    "\n",
    "- **Metrics:** View request count, failed requests, and response times.\n",
    "- **Logs:** Use Log Analytics to query traces, requests, and custom events.\n"
   ]
  },
  {
   "cell_type": "markdown",
   "id": "1d9e51ab",
   "metadata": {},
   "source": [
    "---\n",
    "**Summary:**  \n",
    "- Tested GPT-4 endpoint via APIM with rate limiting  \n",
    "- Observed rate limit enforcement  \n",
    "- Monitored traffic and errors in Application Insights"
   ]
  }
 ],
 "metadata": {
  "kernelspec": {
   "display_name": "Python 3",
   "language": "python",
   "name": "python3"
  },
  "language_info": {
   "codemirror_mode": {
    "name": "ipython",
    "version": 3
   },
   "file_extension": ".py",
   "mimetype": "text/x-python",
   "name": "python",
   "nbconvert_exporter": "python",
   "pygments_lexer": "ipython3",
   "version": "3.11.5"
  }
 },
 "nbformat": 4,
 "nbformat_minor": 5
}
